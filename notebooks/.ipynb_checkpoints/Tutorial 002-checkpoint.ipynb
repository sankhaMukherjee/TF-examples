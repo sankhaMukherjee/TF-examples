{
 "cells": [
  {
   "cell_type": "code",
   "execution_count": 1,
   "metadata": {},
   "outputs": [],
   "source": [
    "import numpy as np\n",
    "import tensorflow as tf\n",
    "import matplotlib.pyplot as plt\n",
    "\n",
    "from datetime import datetime as dt\n",
    "import os\n",
    "\n",
    "def getNow():\n",
    "    now       = dt.now().strftime('%Y-%m-%d--%H-%M-%S')\n",
    "    nowFolder = os.path.join('./logFolder', now)\n",
    "    return nowFolder"
   ]
  },
  {
   "cell_type": "code",
   "execution_count": 4,
   "metadata": {
    "collapsed": true
   },
   "outputs": [],
   "source": [
    "tf.reset_default_graph()"
   ]
  },
  {
   "cell_type": "code",
   "execution_count": 2,
   "metadata": {
    "collapsed": true
   },
   "outputs": [],
   "source": [
    "X = np.random.rand(100, 2)\n",
    "y = 2*X[:, 0] + 3*X[:, 1] + 4\n",
    "y = y.reshape((-1, 1))"
   ]
  },
  {
   "cell_type": "code",
   "execution_count": 3,
   "metadata": {},
   "outputs": [
    {
     "data": {
      "text/plain": [
       "((100, 2), (100, 1))"
      ]
     },
     "execution_count": 3,
     "metadata": {},
     "output_type": "execute_result"
    }
   ],
   "source": [
    "X.shape, y.shape"
   ]
  },
  {
   "cell_type": "code",
   "execution_count": 5,
   "metadata": {
    "collapsed": true
   },
   "outputs": [],
   "source": [
    "inp = tf.placeholder(dtype=tf.float32, shape=(None, 2), name='inp')\n",
    "out = tf.placeholder(dtype=tf.float32, shape=(None, 1), name='out')\n",
    "\n",
    "W = tf.Variable(initial_value=np.random.rand(2, 1), name='W', dtype=tf.float32)\n",
    "b = tf.Variable(initial_value=0, name='b', dtype=tf.float32)\n",
    "\n",
    "yHat = tf.matmul(inp,  W )+ b\n",
    "err  = tf.reduce_mean((out - yHat)**2, name='err')\n",
    "\n",
    "init = tf.global_variables_initializer()"
   ]
  },
  {
   "cell_type": "code",
   "execution_count": 6,
   "metadata": {},
   "outputs": [
    {
     "name": "stdout",
     "output_type": "stream",
     "text": [
      "35.522385\n",
      "tensorboard --logdir=./logFolder/2019-02-11--18-47-02\n"
     ]
    }
   ],
   "source": [
    "folder = getNow()\n",
    "\n",
    "with tf.Session() as sess:\n",
    "    writer = tf.summary.FileWriter(folder, sess.graph)\n",
    "    sess.run(init)\n",
    "    errVal = sess.run( err, feed_dict={\n",
    "        inp : X,\n",
    "        out : y\n",
    "         })\n",
    "    writer.close()\n",
    "\n",
    "print(errVal)\n",
    "    \n",
    "print('tensorboard --logdir={}'.format( folder ))"
   ]
  },
  {
   "cell_type": "markdown",
   "metadata": {},
   "source": [
    "## We can access by name as well"
   ]
  },
  {
   "cell_type": "code",
   "execution_count": 5,
   "metadata": {},
   "outputs": [
    {
     "data": {
      "text/plain": [
       "<tf.Tensor 'inp:0' shape=(?, 2) dtype=float32>"
      ]
     },
     "execution_count": 5,
     "metadata": {},
     "output_type": "execute_result"
    }
   ],
   "source": [
    "inp"
   ]
  },
  {
   "cell_type": "code",
   "execution_count": 6,
   "metadata": {},
   "outputs": [
    {
     "name": "stdout",
     "output_type": "stream",
     "text": [
      "35.220875\n",
      "tensorboard --logdir=./logFolder/2018-06-07--23-23-38\n"
     ]
    }
   ],
   "source": [
    "folder = getNow()\n",
    "\n",
    "with tf.Session() as sess:\n",
    "    writer = tf.summary.FileWriter(folder, sess.graph)\n",
    "    sess.run(init)\n",
    "    errVal = sess.run( err, feed_dict={\n",
    "        'inp:0' : X,\n",
    "        'out:0' : y\n",
    "         })\n",
    "    writer.close()\n",
    "\n",
    "print(errVal)\n",
    "    \n",
    "print('tensorboard --logdir={}'.format( folder ))"
   ]
  },
  {
   "cell_type": "markdown",
   "metadata": {},
   "source": [
    "## We can specify *any* tensor"
   ]
  },
  {
   "cell_type": "code",
   "execution_count": 9,
   "metadata": {},
   "outputs": [
    {
     "name": "stdout",
     "output_type": "stream",
     "text": [
      "0.0\n",
      "tensorboard --logdir=./logFolder/2018-06-07--23-41-03\n"
     ]
    }
   ],
   "source": [
    "folder = getNow()\n",
    "\n",
    "with tf.Session() as sess:\n",
    "    writer = tf.summary.FileWriter(folder, sess.graph)\n",
    "    sess.run(init)\n",
    "    errVal = sess.run( err, feed_dict={\n",
    "        #'inp:0' : X, # This is not needed\n",
    "        'out:0' : y,\n",
    "        'add:0' : y\n",
    "         })\n",
    "    writer.close()\n",
    "\n",
    "print(errVal)\n",
    "    \n",
    "print('tensorboard --logdir={}'.format( folder ))"
   ]
  },
  {
   "cell_type": "code",
   "execution_count": null,
   "metadata": {
    "collapsed": true
   },
   "outputs": [],
   "source": []
  }
 ],
 "metadata": {
  "kernelspec": {
   "display_name": "Python 3",
   "language": "python",
   "name": "python3"
  },
  "language_info": {
   "codemirror_mode": {
    "name": "ipython",
    "version": 3
   },
   "file_extension": ".py",
   "mimetype": "text/x-python",
   "name": "python",
   "nbconvert_exporter": "python",
   "pygments_lexer": "ipython3",
   "version": "3.6.8"
  }
 },
 "nbformat": 4,
 "nbformat_minor": 2
}
