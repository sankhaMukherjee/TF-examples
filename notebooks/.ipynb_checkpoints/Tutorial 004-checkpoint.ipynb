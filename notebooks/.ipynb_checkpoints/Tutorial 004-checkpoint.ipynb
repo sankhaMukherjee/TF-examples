{
 "cells": [
  {
   "cell_type": "code",
   "execution_count": 1,
   "metadata": {},
   "outputs": [],
   "source": [
    "import numpy as np\n",
    "import tensorflow as tf\n",
    "import matplotlib.pyplot as plt\n",
    "\n",
    "from datetime import datetime as dt\n",
    "import os\n",
    "\n",
    "def getNow():\n",
    "    now       = dt.now().strftime('%Y-%m-%d--%H-%M-%S')\n",
    "    nowFolder = os.path.join('./logFolder', now)\n",
    "    return nowFolder"
   ]
  },
  {
   "cell_type": "code",
   "execution_count": 2,
   "metadata": {
    "collapsed": true
   },
   "outputs": [],
   "source": [
    "tf.reset_default_graph()"
   ]
  },
  {
   "cell_type": "code",
   "execution_count": 3,
   "metadata": {
    "collapsed": true
   },
   "outputs": [],
   "source": [
    "N = 1000\n",
    "X = np.random.rand(N, 2)\n",
    "y = 2*X[:, 0] + 3*X[:, 1] + 4 + 0.1*(np.random.rand(N)-0.5)\n",
    "y = y.reshape((-1, 1))\n",
    "tMask = np.random.choice([True, False], (N,), p=[0.8, 0.2])"
   ]
  },
  {
   "cell_type": "code",
   "execution_count": 4,
   "metadata": {
    "collapsed": true
   },
   "outputs": [],
   "source": [
    "with tf.variable_scope('trainData'):\n",
    "    inpTrain = tf.placeholder(dtype=tf.float32, shape=(None, 2), name='inpTrain')\n",
    "    outTrain = tf.placeholder(dtype=tf.float32, shape=(None, 1), name='outTrain')\n",
    "\n",
    "with tf.variable_scope('testData'):\n",
    "    inpTest = tf.placeholder(dtype=tf.float32, shape=(None, 2), name='inpTest')\n",
    "    outTest = tf.placeholder(dtype=tf.float32, shape=(None, 1), name='outTest')\n",
    "\n",
    "with tf.variable_scope('model'):\n",
    "    W = tf.Variable(initial_value=np.random.rand(2, 1), name='W', dtype=tf.float32)\n",
    "    b = tf.Variable(initial_value=0, name='b', dtype=tf.float32)\n",
    "\n",
    "    with tf.variable_scope('train'):\n",
    "        yHatTrain = tf.matmul(inpTrain,  W )+ b\n",
    "        errTrain  = tf.reduce_mean((outTrain - yHatTrain)**2, name='errTrain')\n",
    "        \n",
    "    with tf.variable_scope('test'):\n",
    "        yHatTest = tf.matmul(inpTest,  W )+ b\n",
    "        errTest  = tf.reduce_mean((outTest - yHatTest)**2, name='errTest')\n",
    "\n",
    "with tf.variable_scope('optimizer'):\n",
    "    lr = tf.Variable(0.01, dtype=tf.float32, name='learningRate')\n",
    "    opt = tf.train.AdamOptimizer(learning_rate=lr).minimize(errTrain)\n",
    "\n",
    "init = tf.global_variables_initializer()"
   ]
  },
  {
   "cell_type": "code",
   "execution_count": 5,
   "metadata": {},
   "outputs": [
    {
     "name": "stdout",
     "output_type": "stream",
     "text": [
      "Training: 38.009033203125, Testing: 37.448486328125\n",
      "Training: 18.059999465942383, Testing: 17.749439239501953\n",
      "Training: 7.459924221038818, Testing: 7.306014060974121\n",
      "Training: 2.698377847671509, Testing: 2.634279489517212\n",
      "Training: 0.9280407428741455, Testing: 0.9110047817230225\n",
      "Training: 0.38705092668533325, Testing: 0.39228659868240356\n",
      "Training: 0.24342826008796692, Testing: 0.2578063905239105\n",
      "Training: 0.20037247240543365, Testing: 0.21752692759037018\n",
      "Training: 0.17752082645893097, Testing: 0.19465254247188568\n",
      "Training: 0.1583208292722702, Testing: 0.17434073984622955\n",
      "Training: 0.14030352234840393, Testing: 0.1548602283000946\n",
      "Training: 0.12333398312330246, Testing: 0.13636302947998047\n",
      "Training: 0.10753267258405685, Testing: 0.11907338351011276\n",
      "Training: 0.09299711883068085, Testing: 0.1031273677945137\n",
      "Training: 0.07978149503469467, Testing: 0.08859582245349884\n",
      "Training: 0.06789818406105042, Testing: 0.07550010085105896\n",
      "Training: 0.057326070964336395, Testing: 0.06382367759943008\n",
      "Training: 0.04801689460873604, Testing: 0.05352010577917099\n",
      "Training: 0.03990153595805168, Testing: 0.044519294053316116\n",
      "Training: 0.03289592266082764, Testing: 0.036734096705913544\n",
      "Training: 0.026906896382570267, Testing: 0.03006640449166298\n",
      "Training: 0.02183620072901249, Testing: 0.024411533027887344\n",
      "Training: 0.017584867775440216, Testing: 0.01966293528676033\n",
      "Training: 0.014055859297513962, Testing: 0.0157154593616724\n",
      "Training: 0.011156374588608742, Testing: 0.012467712163925171\n",
      "Training: 0.008799429051578045, Testing: 0.009824181906878948\n",
      "Training: 0.006904952228069305, Testing: 0.007696475367993116\n",
      "Training: 0.005400174763053656, Testing: 0.006003945600241423\n",
      "Training: 0.0042199548333883286, Testing: 0.004674185067415237\n",
      "Training: 0.003306702710688114, Testing: 0.003643051953986287\n",
      "Training: 0.0026101621333509684, Testing: 0.0028545137029141188\n",
      "Training: 0.00208707875572145, Testing: 0.0022602914832532406\n",
      "Training: 0.0017007127171382308, Testing: 0.0018194073345512152\n",
      "Training: 0.0014203116297721863, Testing: 0.001497534103691578\n",
      "Training: 0.0012206280371174216, Testing: 0.0012665333924815059\n",
      "Training: 0.0010812621330842376, Testing: 0.0011036586947739124\n",
      "Training: 0.000986055820249021, Testing: 0.0009908927604556084\n",
      "Training: 0.0009224757668562233, Testing: 0.0009142438066191971\n",
      "Training: 0.000881022831890732, Testing: 0.0008630952797830105\n",
      "Training: 0.0008546736789867282, Testing: 0.0008295713923871517\n",
      "Training: 0.0008383687818422914, Testing: 0.0008079662802629173\n",
      "Training: 0.000828563526738435, Testing: 0.0007942582597024739\n",
      "Training: 0.0008228400838561356, Testing: 0.0007856673910282552\n",
      "Training: 0.0008196028065867722, Testing: 0.0007803354528732598\n",
      "Training: 0.0008178320713341236, Testing: 0.0007770397933200002\n",
      "Training: 0.0008168962085619569, Testing: 0.00077500642510131\n",
      "Training: 0.0008164190803654492, Testing: 0.0007737486739642918\n",
      "Training: 0.0008161872392520308, Testing: 0.0007729650242254138\n",
      "Training: 0.000816076819319278, Testing: 0.0007724754977971315\n",
      "Training: 0.0008160279830917716, Testing: 0.0007721660076640546\n",
      "Training: 0.0008160069119185209, Testing: 0.0007719699642620981\n",
      "Final Values\n",
      "------------------------------\n",
      "Training: 0.0008160069119185209, Testing: 0.0007719699642620981\n",
      "tensorboard --logdir=./logFolder/2019-02-11--18-54-47\n"
     ]
    }
   ],
   "source": [
    "folder = getNow()\n",
    "\n",
    "with tf.Session() as sess:\n",
    "    writer = tf.summary.FileWriter(folder, sess.graph)\n",
    "    sess.run(init)\n",
    "    \n",
    "    for i in range(5001):\n",
    "        sess.run( opt, feed_dict={\n",
    "            inpTrain : X[tMask, :],\n",
    "            outTrain : y[tMask, :],\n",
    "            lr       : 0.01\n",
    "             })\n",
    "        \n",
    "        if (i % 100) == 0:\n",
    "            errTrainVal, errTestVal = sess.run( [errTrain, errTest], feed_dict={\n",
    "                inpTrain : X[tMask, :],\n",
    "                outTrain : y[tMask, :],\n",
    "                inpTest : X[~tMask, :],\n",
    "                outTest : y[~tMask, :]})\n",
    "            print('Training: {}, Testing: {}'.format(errTrainVal, errTestVal))\n",
    "            \n",
    "    \n",
    "    writer.close()\n",
    "\n",
    "print('Final Values')\n",
    "print('-'*30)\n",
    "print('Training: {}, Testing: {}'.format(errTrainVal, errTestVal))\n",
    "    \n",
    "print('tensorboard --logdir={}'.format( folder ))"
   ]
  },
  {
   "cell_type": "code",
   "execution_count": null,
   "metadata": {
    "collapsed": true
   },
   "outputs": [],
   "source": []
  }
 ],
 "metadata": {
  "kernelspec": {
   "display_name": "Python 3",
   "language": "python",
   "name": "python3"
  },
  "language_info": {
   "codemirror_mode": {
    "name": "ipython",
    "version": 3
   },
   "file_extension": ".py",
   "mimetype": "text/x-python",
   "name": "python",
   "nbconvert_exporter": "python",
   "pygments_lexer": "ipython3",
   "version": "3.6.8"
  }
 },
 "nbformat": 4,
 "nbformat_minor": 2
}
