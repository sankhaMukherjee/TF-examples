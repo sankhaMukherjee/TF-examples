{
 "cells": [
  {
   "cell_type": "code",
   "execution_count": 1,
   "metadata": {},
   "outputs": [],
   "source": [
    "import numpy as np\n",
    "import tensorflow as tf\n",
    "import matplotlib.pyplot as plt\n",
    "\n",
    "from datetime import datetime as dt\n",
    "import os\n",
    "\n",
    "def getNow():\n",
    "    now       = dt.now().strftime('%Y-%m-%d--%H-%M-%S')\n",
    "    nowFolder = os.path.join('./logFolder', now)\n",
    "    return nowFolder"
   ]
  },
  {
   "cell_type": "code",
   "execution_count": 2,
   "metadata": {
    "collapsed": true
   },
   "outputs": [],
   "source": [
    "tf.reset_default_graph()"
   ]
  },
  {
   "cell_type": "code",
   "execution_count": 3,
   "metadata": {
    "collapsed": true
   },
   "outputs": [],
   "source": [
    "X = np.random.rand(100, 2)\n",
    "y = 2*X[:, 0] + 3*X[:, 1] + 4\n",
    "y = y.reshape((-1, 1))"
   ]
  },
  {
   "cell_type": "code",
   "execution_count": 4,
   "metadata": {
    "collapsed": true
   },
   "outputs": [],
   "source": [
    "inp = tf.placeholder(dtype=tf.float32, shape=(None, 2), name='inp')\n",
    "out = tf.placeholder(dtype=tf.float32, shape=(None, 1), name='out')\n",
    "\n",
    "W = tf.Variable(initial_value=np.random.rand(2, 1), name='W', dtype=tf.float32)\n",
    "b = tf.Variable(initial_value=0, name='b', dtype=tf.float32)\n",
    "\n",
    "yHat = tf.matmul(inp,  W )+ b\n",
    "err  = tf.reduce_mean((out - yHat)**2, name='err')\n",
    "\n",
    "opt = tf.train.AdamOptimizer(learning_rate=0.01).minimize(err)\n",
    "\n",
    "init = tf.global_variables_initializer()"
   ]
  },
  {
   "cell_type": "code",
   "execution_count": 5,
   "metadata": {},
   "outputs": [
    {
     "name": "stdout",
     "output_type": "stream",
     "text": [
      "37.269974\n",
      "tensorboard --logdir=./logFolder/2019-02-11--18-50-39\n"
     ]
    }
   ],
   "source": [
    "folder = getNow()\n",
    "\n",
    "with tf.Session() as sess:\n",
    "    writer = tf.summary.FileWriter(folder, sess.graph)\n",
    "    sess.run(init)\n",
    "    errVal = sess.run( err, feed_dict={\n",
    "        inp : X,\n",
    "        out : y\n",
    "         })\n",
    "    writer.close()\n",
    "\n",
    "print(errVal)\n",
    "    \n",
    "print('tensorboard --logdir={}'.format( folder ))"
   ]
  },
  {
   "cell_type": "markdown",
   "metadata": {},
   "source": [
    "## Variables persist between sessions"
   ]
  },
  {
   "cell_type": "code",
   "execution_count": 6,
   "metadata": {},
   "outputs": [
    {
     "name": "stdout",
     "output_type": "stream",
     "text": [
      "37.269974\n",
      "17.26622\n",
      "6.867715\n",
      "2.3537555\n",
      "0.7556116\n",
      "0.29925308\n",
      "0.1892615\n",
      "0.16021091\n",
      "0.14570646\n",
      "0.13324128\n",
      "0.12112789\n",
      "0.10930691\n",
      "0.0978883\n",
      "0.08697953\n",
      "0.076667495\n",
      "0.06702052\n",
      "0.058087956\n",
      "0.049901057\n",
      "0.042474512\n",
      "0.035807785\n",
      "0.02988655\n",
      "0.024684839\n",
      "0.020166535\n",
      "0.016287403\n",
      "0.012997245\n",
      "0.010241763\n",
      "0.007964292\n",
      "0.0061077382\n",
      "0.004616007\n",
      "0.0034354231\n",
      "0.0025158175\n",
      "0.0018113465\n",
      "0.0012810603\n",
      "0.0008891494\n",
      "0.0006050486\n",
      "0.00040325135\n",
      "0.00026293387\n",
      "0.00016753672\n",
      "0.00010419527\n",
      "6.317031e-05\n",
      "3.727983e-05\n",
      "2.1385496e-05\n",
      "1.1908158e-05\n",
      "6.4250053e-06\n",
      "3.3532679e-06\n",
      "1.6899027e-06\n",
      "8.2116406e-07\n",
      "3.8370817e-07\n",
      "1.7208824e-07\n",
      "7.391896e-08\n",
      "3.0352044e-08\n",
      "3.0352044e-08\n",
      "[[2.000483]\n",
      " [3.000293]]\n",
      "3.9995503\n",
      "tensorboard --logdir=./logFolder/2019-02-11--18-51-35\n"
     ]
    }
   ],
   "source": [
    "folder = getNow()\n",
    "\n",
    "with tf.Session() as sess:\n",
    "    writer = tf.summary.FileWriter(folder, sess.graph)\n",
    "    sess.run(init)\n",
    "    \n",
    "    for i in range(5001):\n",
    "        _, errVal, WVal, bVal = sess.run( [opt, err, W, b], feed_dict={\n",
    "            inp : X,\n",
    "            out : y\n",
    "             })\n",
    "        \n",
    "        if (i % 100) == 0:\n",
    "            print(errVal)\n",
    "    \n",
    "    writer.close()\n",
    "\n",
    "print(errVal)\n",
    "print(WVal)\n",
    "print(bVal)\n",
    "    \n",
    "print('tensorboard --logdir={}'.format( folder ))"
   ]
  },
  {
   "cell_type": "code",
   "execution_count": null,
   "metadata": {
    "collapsed": true
   },
   "outputs": [],
   "source": []
  }
 ],
 "metadata": {
  "kernelspec": {
   "display_name": "Python 3",
   "language": "python",
   "name": "python3"
  },
  "language_info": {
   "codemirror_mode": {
    "name": "ipython",
    "version": 3
   },
   "file_extension": ".py",
   "mimetype": "text/x-python",
   "name": "python",
   "nbconvert_exporter": "python",
   "pygments_lexer": "ipython3",
   "version": "3.6.8"
  }
 },
 "nbformat": 4,
 "nbformat_minor": 2
}
