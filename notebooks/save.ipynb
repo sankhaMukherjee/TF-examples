{
 "cells": [
  {
   "cell_type": "code",
   "execution_count": 1,
   "metadata": {
    "collapsed": true
   },
   "outputs": [],
   "source": [
    "import numpy as np\n",
    "import tensorflow as tf\n",
    "import matplotlib.pyplot as plt\n",
    "\n",
    "from datetime import datetime as dt\n",
    "import os\n",
    "\n",
    "def getNow(folder='logFolder'):\n",
    "    now       = dt.now().strftime('%Y-%m-%d--%H-%M-%S')\n",
    "    nowFolder = os.path.join('./{}'.format(folder), now)\n",
    "    return nowFolder\n",
    "\n",
    "N = 1000\n",
    "X = np.random.rand(N, 2)\n",
    "y = 2*X[:, 0] + 3*X[:, 1] + 4 + 0.1*(np.random.rand(N)-0.5)\n",
    "y = y.reshape((-1, 1))"
   ]
  },
  {
   "cell_type": "code",
   "execution_count": 7,
   "metadata": {},
   "outputs": [],
   "source": [
    "tf.reset_default_graph()\n",
    "inpSize = X.shape[1]\n",
    "layers = [10, 5, 1]\n",
    "activations = [tf.tanh, tf.tanh, None]\n",
    "\n",
    "with tf.variable_scope('io'):\n",
    "    inp = tf.placeholder(dtype=tf.float32, shape=(None, 2), name='inp')\n",
    "    out = tf.placeholder(dtype=tf.float32, shape=(None, 1), name='out')\n",
    "    \n",
    "prevL = inpSize\n",
    "\n",
    "with tf.variable_scope('model'):\n",
    "    NN = inp * 1\n",
    "    for i, (l, a) in enumerate(zip(layers, activations)):\n",
    "        with tf.variable_scope('layer_{:05d}'.format(i)):\n",
    "            W = tf.Variable(initial_value=np.random.rand(prevL, l), name='W', dtype=tf.float32)\n",
    "            b = tf.Variable(initial_value=np.random.rand(1, l),     name='b', dtype=tf.float32)\n",
    "\n",
    "            NN = tf.matmul(NN, W) + b\n",
    "            prevL = l\n",
    "        \n",
    "    err = tf.reduce_mean((out - NN)**2)\n",
    "        \n",
    "with tf.variable_scope('optimizer'):\n",
    "    opt = tf.train.AdamOptimizer(learning_rate=0.01).minimize(err)\n",
    "    \n",
    "with tf.variable_scope('misc'):\n",
    "    init = tf.global_variables_initializer()\n",
    "    trainableVariables = tf.trainable_variables()\n",
    "    saver = tf.train.Saver(var_list = trainableVariables)\n"
   ]
  },
  {
   "cell_type": "code",
   "execution_count": 8,
   "metadata": {},
   "outputs": [
    {
     "name": "stdout",
     "output_type": "stream",
     "text": [
      "161.128\n",
      "0.0234625\n",
      "0.0147462\n",
      "0.00825002\n",
      "0.0043459\n",
      "0.00233596\n",
      "0.00141908\n",
      "0.00104014\n",
      "0.000895952\n",
      "0.000844909\n",
      "tensorboard --logdir=./logFolder/2018-06-29--17-13-20\n",
      "savePath = ./models/2018-06-29--17-13-20/model.ckpt\n"
     ]
    }
   ],
   "source": [
    "summaryFolder = getNow()\n",
    "modelFolder   = getNow('models')\n",
    "\n",
    "with tf.Session() as sess:\n",
    "    writer = tf.summary.FileWriter(summaryFolder, sess.graph)\n",
    "    sess.run(init)\n",
    "    \n",
    "    for i in range(1000):\n",
    "        _, errVal = sess.run([opt, err], feed_dict={inp:X, out:y})\n",
    "        if i % 100 == 0:\n",
    "            print(errVal)\n",
    "            \n",
    "    os.makedirs(modelFolder)\n",
    "    path = saver.save(sess, os.path.join(modelFolder, 'model.ckpt'))\n",
    "    \n",
    "    writer.close()\n",
    "    \n",
    "print('tensorboard --logdir={}'.format(summaryFolder))\n",
    "print('savePath = {}'.format(path))"
   ]
  },
  {
   "cell_type": "code",
   "execution_count": null,
   "metadata": {
    "collapsed": true
   },
   "outputs": [],
   "source": []
  }
 ],
 "metadata": {
  "kernelspec": {
   "display_name": "Python 3",
   "language": "python",
   "name": "python3"
  },
  "language_info": {
   "codemirror_mode": {
    "name": "ipython",
    "version": 3
   },
   "file_extension": ".py",
   "mimetype": "text/x-python",
   "name": "python",
   "nbconvert_exporter": "python",
   "pygments_lexer": "ipython3",
   "version": "3.6.5"
  }
 },
 "nbformat": 4,
 "nbformat_minor": 2
}
