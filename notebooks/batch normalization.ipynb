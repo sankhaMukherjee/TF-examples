{
 "cells": [
  {
   "cell_type": "code",
   "execution_count": 1,
   "metadata": {
    "collapsed": true
   },
   "outputs": [],
   "source": [
    "import tensorflow as tf\n",
    "import numpy as np\n",
    "import os, shutil\n",
    "from datetime import datetime as dt"
   ]
  },
  {
   "cell_type": "code",
   "execution_count": 10,
   "metadata": {},
   "outputs": [],
   "source": [
    "N = 1000\n",
    "X = np.random.rand(N, 2)\n",
    "y = 2*X[:, 0] + 3*X[:, 1] + 3 \n",
    "y = y.reshape(-1, 1)"
   ]
  },
  {
   "cell_type": "code",
   "execution_count": 20,
   "metadata": {},
   "outputs": [],
   "source": [
    "tf.reset_default_graph()\n",
    "layers      = [5, 3, 1]\n",
    "activations = [tf.tanh, tf.tanh,  None]\n",
    "\n",
    "inp = tf.placeholder(dtype=tf.float32, shape=(None, 2 ), name='inp')\n",
    "out = tf.placeholder(dtype=tf.float32, shape=(None, 1 ), name='out')\n",
    "\n",
    "isTraining = tf.placeholder(dtype=tf.bool, shape=(), name='isTraining')\n",
    "\n",
    "N = inp * 1 # I am lazy\n",
    "for i, (l, a) in enumerate(zip(layers, activations)):\n",
    "    N = tf.layers.dense(N, l, None)\n",
    "    N = tf.layers.batch_normalization( N,  training = isTraining) # comment this line\n",
    "    if a is not None:\n",
    "        N = a(N)\n",
    "\n",
    "err = tf.reduce_mean((N - out)**2)\n",
    "update_ops = tf.get_collection(tf.GraphKeys.UPDATE_OPS)\n",
    "with tf.control_dependencies(update_ops):\n",
    "    opt = tf.train.AdamOptimizer(0.05).minimize(err)\n",
    "\n",
    "tVars = tf.trainable_variables()\n",
    "graph = tf.get_default_graph()\n",
    "for v in graph.get_collection(tf.GraphKeys.GLOBAL_VARIABLES): \n",
    "    if all([\n",
    "            ('batch_normalization' in v.name),\n",
    "            ('optimizer' not in v.name), \n",
    "            v not in tVars ]):\n",
    "        tVars.append(v)\n",
    "\n",
    "init = tf.global_variables_initializer()\n",
    "saver = tf.train.Saver(var_list= tVars)"
   ]
  },
  {
   "cell_type": "code",
   "execution_count": 21,
   "metadata": {
    "scrolled": true
   },
   "outputs": [
    {
     "name": "stdout",
     "output_type": "stream",
     "text": [
      "During Training\n",
      "31.7372\n",
      "1.92066e-05\n",
      "3.87879e-06\n",
      "2.55274e-06\n",
      "1.25418e-06\n",
      "1.43078e-06\n",
      "During testing\n",
      "INFO:tensorflow:Restoring parameters from models1/model.ckpt\n",
      "0.041519\n"
     ]
    }
   ],
   "source": [
    "with tf.Session() as sess:\n",
    "    sess.run(init)\n",
    "    print('During Training')\n",
    "    for i in range(3000):\n",
    "        _, errVal = sess.run([opt, err], feed_dict={inp:X, out:y, isTraining:True})\n",
    "        if i %500 == 0:\n",
    "            print(errVal)\n",
    "\n",
    "    shutil.rmtree('models1', ignore_errors=True)\n",
    "    os.makedirs('models1')\n",
    "    path = saver.save( sess, 'models1/model.ckpt' )\n",
    "\n",
    "print('During testing')\n",
    "with tf.Session() as sess:\n",
    "    saver.restore(sess, path)\n",
    "    errVal = sess.run(err, feed_dict={inp:X, out:y, isTraining:False})\n",
    "    print( errVal )"
   ]
  }
 ],
 "metadata": {
  "kernelspec": {
   "display_name": "Python 3",
   "language": "python",
   "name": "python3"
  },
  "language_info": {
   "codemirror_mode": {
    "name": "ipython",
    "version": 3
   },
   "file_extension": ".py",
   "mimetype": "text/x-python",
   "name": "python",
   "nbconvert_exporter": "python",
   "pygments_lexer": "ipython3",
   "version": "3.6.5"
  }
 },
 "nbformat": 4,
 "nbformat_minor": 2
}
