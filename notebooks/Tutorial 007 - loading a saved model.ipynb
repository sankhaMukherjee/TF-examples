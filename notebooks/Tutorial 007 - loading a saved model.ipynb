{
 "cells": [
  {
   "cell_type": "code",
   "execution_count": 2,
   "metadata": {
    "collapsed": true
   },
   "outputs": [],
   "source": [
    "import numpy as np\n",
    "import tensorflow as tf\n",
    "import matplotlib.pyplot as plt\n",
    "\n",
    "from datetime import datetime as dt\n",
    "import os\n",
    "\n",
    "def getNow(folder='logFolder'):\n",
    "    now       = dt.now().strftime('%Y-%m-%d--%H-%M-%S')\n",
    "    nowFolder = os.path.join('./{}'.format(folder), now)\n",
    "    return nowFolder"
   ]
  },
  {
   "cell_type": "code",
   "execution_count": 3,
   "metadata": {
    "collapsed": true
   },
   "outputs": [],
   "source": [
    "N = 1000\n",
    "X = np.random.rand(N, 2)\n",
    "y = 2*X[:, 0] + 3*X[:, 1] + 4 + 0.1*(np.random.rand(N)-0.5)\n",
    "y = y.reshape((-1, 1))"
   ]
  },
  {
   "cell_type": "markdown",
   "metadata": {},
   "source": [
    "### Loading a previous graph"
   ]
  },
  {
   "cell_type": "code",
   "execution_count": 3,
   "metadata": {
    "collapsed": true
   },
   "outputs": [],
   "source": [
    "tf.reset_default_graph()\n",
    "savePath = './models/2019-02-11--18-58-58/model.ckpt'\n",
    "saver = tf.train.import_meta_graph(savePath + '.meta')"
   ]
  },
  {
   "cell_type": "code",
   "execution_count": 4,
   "metadata": {},
   "outputs": [
    {
     "name": "stdout",
     "output_type": "stream",
     "text": [
      "tensorboard --logdir=./logFolder/2018-06-28--17-37-19\n"
     ]
    }
   ],
   "source": [
    "summaryFolder = getNow()\n",
    "\n",
    "with tf.Session() as sess:\n",
    "    writer = tf.summary.FileWriter(summaryFolder, sess.graph)\n",
    "    writer.close()\n",
    "    \n",
    "print('tensorboard --logdir={}'.format( summaryFolder ))"
   ]
  },
  {
   "cell_type": "markdown",
   "metadata": {},
   "source": [
    "### Without loading preivous state"
   ]
  },
  {
   "cell_type": "code",
   "execution_count": 2,
   "metadata": {
    "collapsed": true
   },
   "outputs": [],
   "source": [
    "tf.reset_default_graph()\n",
    "savePath = './models/2018-06-28--15-49-55/model.ckpt'\n",
    "saver = tf.train.import_meta_graph(savePath + '.meta')"
   ]
  },
  {
   "cell_type": "code",
   "execution_count": 12,
   "metadata": {},
   "outputs": [
    {
     "name": "stdout",
     "output_type": "stream",
     "text": [
      "3.48578\n"
     ]
    }
   ],
   "source": [
    "with tf.Session() as sess:\n",
    "    sess.run('misc/init')\n",
    "    errVal = sess.run( 'model/err:0', feed_dict={\n",
    "            'io/inp:0' : X, 'io/out:0' : y})\n",
    "\n",
    "print(errVal)"
   ]
  },
  {
   "cell_type": "markdown",
   "metadata": {},
   "source": [
    "### Run the optimizer"
   ]
  },
  {
   "cell_type": "code",
   "execution_count": 15,
   "metadata": {},
   "outputs": [
    {
     "name": "stdout",
     "output_type": "stream",
     "text": [
      "0.000823804\n"
     ]
    }
   ],
   "source": [
    "with tf.Session() as sess:\n",
    "    sess.run('misc/init')\n",
    "    for i in range(1000):\n",
    "        sess.run( 'optimizers/Adam', feed_dict={\n",
    "            'io/inp:0' : X, 'io/out:0' : y})\n",
    "        \n",
    "    errVal = sess.run( 'model/err:0', feed_dict={\n",
    "            'io/inp:0' : X, 'io/out:0' : y})\n",
    "\n",
    "print(errVal)"
   ]
  },
  {
   "cell_type": "markdown",
   "metadata": {},
   "source": [
    "### After loading previous state"
   ]
  },
  {
   "cell_type": "code",
   "execution_count": 16,
   "metadata": {
    "collapsed": true
   },
   "outputs": [],
   "source": [
    "tf.reset_default_graph()\n",
    "savePath = './models/2018-06-28--15-49-55/model.ckpt'\n",
    "saver = tf.train.import_meta_graph(savePath + '.meta')"
   ]
  },
  {
   "cell_type": "code",
   "execution_count": 18,
   "metadata": {},
   "outputs": [
    {
     "name": "stdout",
     "output_type": "stream",
     "text": [
      "INFO:tensorflow:Restoring parameters from ./models/2018-06-28--15-49-55/model.ckpt\n",
      "0.000828783\n"
     ]
    }
   ],
   "source": [
    "with tf.Session() as sess:\n",
    "    sess.run('misc/init')\n",
    "    saver.restore(sess, savePath)\n",
    "    errVal = sess.run( 'model/err:0', feed_dict={\n",
    "            'io/inp:0' : X, 'io/out:0' : y})\n",
    "    \n",
    "print(errVal)"
   ]
  },
  {
   "cell_type": "markdown",
   "metadata": {},
   "source": [
    "### Get variables"
   ]
  },
  {
   "cell_type": "code",
   "execution_count": 26,
   "metadata": {
    "collapsed": true
   },
   "outputs": [],
   "source": [
    "tf.reset_default_graph()\n",
    "savePath = './models/2018-06-28--15-49-55/model.ckpt'\n",
    "saver = tf.train.import_meta_graph(savePath + '.meta')"
   ]
  },
  {
   "cell_type": "code",
   "execution_count": 28,
   "metadata": {},
   "outputs": [
    {
     "name": "stdout",
     "output_type": "stream",
     "text": [
      "INFO:tensorflow:Restoring parameters from ./models/2018-06-28--15-49-55/model.ckpt\n",
      "0.000828783\n"
     ]
    }
   ],
   "source": [
    "graph = tf.get_default_graph()\n",
    "err   = graph.get_tensor_by_name('model/err:0')\n",
    "inp   = graph.get_tensor_by_name('io/inp:0')\n",
    "out   = graph.get_tensor_by_name('io/out:0')\n",
    "\n",
    "with tf.Session() as sess:\n",
    "    sess.run('misc/init')\n",
    "    saver.restore(sess, savePath)\n",
    "    errVal = sess.run( err, feed_dict={\n",
    "            inp : X, out : y})\n",
    "    \n",
    "print(errVal)"
   ]
  },
  {
   "cell_type": "markdown",
   "metadata": {},
   "source": [
    "### Using the graph collections"
   ]
  },
  {
   "cell_type": "code",
   "execution_count": 20,
   "metadata": {
    "collapsed": true
   },
   "outputs": [],
   "source": [
    "graph = tf.get_default_graph()\n",
    "variables = graph.get_collection(tf.GraphKeys.TRAINABLE_VARIABLES)"
   ]
  },
  {
   "cell_type": "code",
   "execution_count": 21,
   "metadata": {},
   "outputs": [
    {
     "data": {
      "text/plain": [
       "['model/layer_00000/W:0',\n",
       " 'model/layer_00000/b:0',\n",
       " 'model/layer_00001/W:0',\n",
       " 'model/layer_00001/b:0',\n",
       " 'model/layer_00002/W:0',\n",
       " 'model/layer_00002/b:0']"
      ]
     },
     "execution_count": 21,
     "metadata": {},
     "output_type": "execute_result"
    }
   ],
   "source": [
    "[v.name  for v in variables]"
   ]
  },
  {
   "cell_type": "code",
   "execution_count": 22,
   "metadata": {},
   "outputs": [
    {
     "data": {
      "text/plain": [
       "['model/layer_00000/W:0',\n",
       " 'model/layer_00000/b:0',\n",
       " 'model/layer_00001/W:0',\n",
       " 'model/layer_00001/b:0',\n",
       " 'model/layer_00002/W:0',\n",
       " 'model/layer_00002/b:0',\n",
       " 'optimizers/beta1_power:0',\n",
       " 'optimizers/beta2_power:0',\n",
       " 'optimizers/model/layer_00000/W/Adam:0',\n",
       " 'optimizers/model/layer_00000/W/Adam_1:0',\n",
       " 'optimizers/model/layer_00000/b/Adam:0',\n",
       " 'optimizers/model/layer_00000/b/Adam_1:0',\n",
       " 'optimizers/model/layer_00001/W/Adam:0',\n",
       " 'optimizers/model/layer_00001/W/Adam_1:0',\n",
       " 'optimizers/model/layer_00001/b/Adam:0',\n",
       " 'optimizers/model/layer_00001/b/Adam_1:0',\n",
       " 'optimizers/model/layer_00002/W/Adam:0',\n",
       " 'optimizers/model/layer_00002/W/Adam_1:0',\n",
       " 'optimizers/model/layer_00002/b/Adam:0',\n",
       " 'optimizers/model/layer_00002/b/Adam_1:0']"
      ]
     },
     "execution_count": 22,
     "metadata": {},
     "output_type": "execute_result"
    }
   ],
   "source": [
    "[v.name for v in graph.get_collection(tf.GraphKeys.VARIABLES)]"
   ]
  },
  {
   "cell_type": "markdown",
   "metadata": {},
   "source": [
    "### Getting the variable values"
   ]
  },
  {
   "cell_type": "code",
   "execution_count": 25,
   "metadata": {},
   "outputs": [
    {
     "name": "stdout",
     "output_type": "stream",
     "text": [
      "INFO:tensorflow:Restoring parameters from ./models/2018-06-28--15-49-55/model.ckpt\n",
      "model/layer_00000/W:0\n",
      "[[ 0.5717333   0.19548211  0.45528662  0.62857431  0.22678171 -0.18899886\n",
      "   0.66012752 -0.1440849   0.15550865  0.60070246]\n",
      " [ 0.86717474  0.49768844  0.73439205 -0.01208313  0.17761439  0.49848092\n",
      "   0.91902369  0.16994558  0.18100658  0.00521727]]\n",
      "model/layer_00000/b:0\n",
      "[[ 0.33378291  0.34686857  0.34494224  0.33497506  0.34497482  0.37368101\n",
      "   0.33496913  0.37542731  0.34816936  0.31579486]]\n",
      "model/layer_00001/W:0\n",
      "[[ 0.29121259 -0.02237164  0.86239558  0.39535969  0.02165305]\n",
      " [-0.00696487  0.29616392  0.37376603  0.65181971  0.08567395]\n",
      " [ 0.17245257  0.06465442  0.80565006  0.4744812   0.39250892]\n",
      " [ 0.69784826  0.81502718  0.10170063  0.45668015  0.42934233]\n",
      " [ 0.49389875  0.1705883   0.53318369  0.2263654   0.45932907]\n",
      " [ 0.72302705  0.68155563  0.55588037  0.3135342   0.61946237]\n",
      " [ 0.18898198  0.48440674  0.68116242  0.01322642  0.33675501]\n",
      " [ 0.68009257  0.85164595  1.14411759  0.33103019  0.61434919]\n",
      " [ 0.45033109  0.19253822  0.88767242  0.5087164   0.27545071]\n",
      " [ 0.1099465   0.35995054  0.84667718  0.4043757  -0.05322728]]\n",
      "model/layer_00001/b:0\n",
      "[[ 0.35100123  0.34330612  0.34588259  0.36091182  0.36493808]]\n",
      "model/layer_00002/W:0\n",
      "[[ 0.22070964]\n",
      " [ 0.16275427]\n",
      " [ 0.18560261]\n",
      " [ 0.65727264]\n",
      " [ 0.92628634]]\n",
      "model/layer_00002/b:0\n",
      "[[ 0.36890364]]\n"
     ]
    }
   ],
   "source": [
    "with tf.Session() as sess:\n",
    "    saver.restore(sess, savePath)\n",
    "    for v in graph.get_collection(tf.GraphKeys.TRAINABLE_VARIABLES):\n",
    "        print(v.name)\n",
    "        print(sess.run(v))"
   ]
  },
  {
   "cell_type": "markdown",
   "metadata": {},
   "source": [
    "## Transfer Learning"
   ]
  },
  {
   "cell_type": "code",
   "execution_count": 4,
   "metadata": {
    "collapsed": true
   },
   "outputs": [],
   "source": [
    "tf.reset_default_graph()\n",
    "savePath = './models/2018-06-28--15-49-55/model.ckpt'\n",
    "saver = tf.train.import_meta_graph(savePath + '.meta')"
   ]
  },
  {
   "cell_type": "code",
   "execution_count": 5,
   "metadata": {
    "collapsed": true
   },
   "outputs": [],
   "source": [
    "graph = tf.get_default_graph()\n",
    "err   = graph.get_tensor_by_name('model/err:0')\n",
    "inp   = graph.get_tensor_by_name('io/inp:0')\n",
    "out   = graph.get_tensor_by_name('io/out:0')"
   ]
  },
  {
   "cell_type": "code",
   "execution_count": 6,
   "metadata": {},
   "outputs": [
    {
     "name": "stdout",
     "output_type": "stream",
     "text": [
      "model/layer_00000/W:0\n",
      "model/layer_00000/b:0\n",
      "model/layer_00001/W:0\n",
      "model/layer_00001/b:0\n",
      "model/layer_00002/W:0\n",
      "model/layer_00002/b:0\n"
     ]
    }
   ],
   "source": [
    "for v in graph.get_collection(tf.GraphKeys.TRAINABLE_VARIABLES):\n",
    "    print(v.name)"
   ]
  },
  {
   "cell_type": "code",
   "execution_count": 7,
   "metadata": {
    "collapsed": true
   },
   "outputs": [],
   "source": [
    "varsToTrain = [v for v in graph.get_collection(tf.GraphKeys.TRAINABLE_VARIABLES) if 'model/layer_00002' in v.name]\n",
    "with tf.variable_scope('new_opt'):\n",
    "    opt = tf.train.AdamOptimizer(learning_rate=0.01).minimize(err, var_list=varsToTrain)\n",
    "    \n",
    "with tf.variable_scope('new_misc'):\n",
    "    init  = tf.global_variables_initializer()"
   ]
  },
  {
   "cell_type": "code",
   "execution_count": 9,
   "metadata": {},
   "outputs": [
    {
     "name": "stdout",
     "output_type": "stream",
     "text": [
      "INFO:tensorflow:Restoring parameters from ./models/2018-06-28--15-49-55/model.ckpt\n",
      "-----[model/layer_00000/W:0         ]--------\n",
      "[[ 0.5717333   0.19548211  0.45528662  0.62857431  0.22678171 -0.18899886\n",
      "   0.66012752 -0.1440849   0.15550865  0.60070246]\n",
      " [ 0.86717474  0.49768844  0.73439205 -0.01208313  0.17761439  0.49848092\n",
      "   0.91902369  0.16994558  0.18100658  0.00521727]]\n",
      "-----[model/layer_00000/b:0         ]--------\n",
      "[[ 0.33378291  0.34686857  0.34494224  0.33497506  0.34497482  0.37368101\n",
      "   0.33496913  0.37542731  0.34816936  0.31579486]]\n",
      "-----[model/layer_00001/W:0         ]--------\n",
      "[[ 0.29121259 -0.02237164  0.86239558  0.39535969  0.02165305]\n",
      " [-0.00696487  0.29616392  0.37376603  0.65181971  0.08567395]\n",
      " [ 0.17245257  0.06465442  0.80565006  0.4744812   0.39250892]\n",
      " [ 0.69784826  0.81502718  0.10170063  0.45668015  0.42934233]\n",
      " [ 0.49389875  0.1705883   0.53318369  0.2263654   0.45932907]\n",
      " [ 0.72302705  0.68155563  0.55588037  0.3135342   0.61946237]\n",
      " [ 0.18898198  0.48440674  0.68116242  0.01322642  0.33675501]\n",
      " [ 0.68009257  0.85164595  1.14411759  0.33103019  0.61434919]\n",
      " [ 0.45033109  0.19253822  0.88767242  0.5087164   0.27545071]\n",
      " [ 0.1099465   0.35995054  0.84667718  0.4043757  -0.05322728]]\n",
      "-----[model/layer_00001/b:0         ]--------\n",
      "[[ 0.35100123  0.34330612  0.34588259  0.36091182  0.36493808]]\n",
      "-----[model/layer_00002/W:0         ]--------\n",
      "[[ 0.22143462]\n",
      " [ 0.15289594]\n",
      " [ 0.1884941 ]\n",
      " [ 0.64449483]\n",
      " [ 0.94665354]]\n",
      "-----[model/layer_00002/b:0         ]--------\n",
      "[[ 0.36903942]]\n",
      "tensorboard --logdir=./logFolder/2018-06-28--18-55-30\n"
     ]
    }
   ],
   "source": [
    "summaryFolder = getNow()\n",
    "\n",
    "with tf.Session() as sess:\n",
    "    sess.run(init)\n",
    "    saver.restore(sess, savePath)\n",
    "    writer = tf.summary.FileWriter(summaryFolder, sess.graph)\n",
    "    \n",
    "    for i in range(1000):\n",
    "        sess.run(opt, feed_dict={inp: X, out: y})\n",
    "        \n",
    "    for v in graph.get_collection(tf.GraphKeys.TRAINABLE_VARIABLES):\n",
    "        print('-----[{:30s}]--------'.format(v.name))\n",
    "        print(v.eval())\n",
    "    \n",
    "    writer.close()\n",
    "    \n",
    "print('tensorboard --logdir={}'.format( summaryFolder ))"
   ]
  },
  {
   "cell_type": "code",
   "execution_count": null,
   "metadata": {
    "collapsed": true
   },
   "outputs": [],
   "source": []
  }
 ],
 "metadata": {
  "kernelspec": {
   "display_name": "Python 3",
   "language": "python",
   "name": "python3"
  },
  "language_info": {
   "codemirror_mode": {
    "name": "ipython",
    "version": 3
   },
   "file_extension": ".py",
   "mimetype": "text/x-python",
   "name": "python",
   "nbconvert_exporter": "python",
   "pygments_lexer": "ipython3",
   "version": "3.6.5"
  }
 },
 "nbformat": 4,
 "nbformat_minor": 2
}
