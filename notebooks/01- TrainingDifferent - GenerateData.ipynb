{
 "cells": [
  {
   "cell_type": "code",
   "execution_count": 14,
   "metadata": {
    "collapsed": true
   },
   "outputs": [],
   "source": [
    "import pandas as pd\n",
    "import numpy as np\n",
    "import tensorflow as tf\n",
    "from sklearn.model_selection import train_test_split, StratifiedKFold"
   ]
  },
  {
   "cell_type": "code",
   "execution_count": 2,
   "metadata": {},
   "outputs": [
    {
     "name": "stderr",
     "output_type": "stream",
     "text": [
      "/usr/local/lib/python3.6/site-packages/ipykernel_launcher.py:52: SettingWithCopyWarning: \n",
      "A value is trying to be set on a copy of a slice from a DataFrame.\n",
      "Try using .loc[row_indexer,col_indexer] = value instead\n",
      "\n",
      "See the caveats in the documentation: http://pandas.pydata.org/pandas-docs/stable/indexing.html#indexing-view-versus-copy\n",
      "/usr/local/lib/python3.6/site-packages/ipykernel_launcher.py:53: SettingWithCopyWarning: \n",
      "A value is trying to be set on a copy of a slice from a DataFrame.\n",
      "Try using .loc[row_indexer,col_indexer] = value instead\n",
      "\n",
      "See the caveats in the documentation: http://pandas.pydata.org/pandas-docs/stable/indexing.html#indexing-view-versus-copy\n"
     ]
    }
   ],
   "source": [
    "diall = pd.read_csv(\"fromSuci/data_better.csv\")\n",
    "discrete = {'race': 'race_race_Asian',\n",
    "            'gender': 'gender_gender_Male',\n",
    "            'age': 'age_age_5',\n",
    "            'admission_type_id': 'admission_type_id_admission_type_id_NANM',\n",
    "            'discharge_disposition_id': 'discharge_disposition_id_discharge_cat_8',\n",
    "            'admission_source_id': 'admission_source_id_admission_source_8',\n",
    "            'new_diag_pri': 'new_diag_pri_new_diag_pri_7',\n",
    "            'new_diag_sec': 'new_diag_sec_new_diag_sec_6',\n",
    "            'new_diag_ter': 'new_diag_ter_new_diag_ter_6',\n",
    "            'max_glu_serum': 'max_glu_serum_max_glu_serum_None',\n",
    "            'A1Cresult': 'A1Cresult_A1Cresult_None',\n",
    "            'metformin': 'metformin_metformin_Change',\n",
    "            'repaglinide': 'repaglinide_repaglinide_Change',\n",
    "            'glimepiride': 'glimepiride_glimepiride_Change',\n",
    "            'glipizide': 'glipizide_glipizide_Change',\n",
    "            'glyburide': 'glyburide_glyburide_Change',\n",
    "            'pioglitazone': 'pioglitazone_pioglitazone_Change',\n",
    "            'rosiglitazone': 'rosiglitazone_rosiglitazone_Change',\n",
    "            'insulin': 'insulin_insulin_Change',\n",
    "            'diabetes_rest_med': 'diabetes_rest_med_No'\n",
    "           }\n",
    "continuous = ['num_lab_procedures','num_procedures','num_medications',\n",
    "              'number_outpatient','number_emergency','number_inpatient',\n",
    "              'time_in_hospital','number_diagnoses']\n",
    "colchoose = list(discrete.keys()) + continuous + ['readmitted']\n",
    "\n",
    "def choose_variable(listvar,discrete,continuous,originaldata):\n",
    "    ''' \n",
    "        To create dummies in all the categorical variable and to standardized all the continuous variable\n",
    "    '''\n",
    "\n",
    "    col_discrete, S, col_continuous = [], [], []\n",
    "\n",
    "    for i in listvar:\n",
    "        \n",
    "        if i == 'readmitted':\n",
    "            yn = pd.get_dummies(originaldata['readmitted'])['YES']\n",
    "        \n",
    "        if i in discrete.keys():\n",
    "            col_discrete.append(i)\n",
    "            S.append(discrete[i])\n",
    "\n",
    "        if i in continuous:\n",
    "            col_continuous.append(i)\n",
    "    \n",
    "    data_cat = pd.get_dummies(originaldata[col_discrete])\n",
    "    data_cat = data_cat.drop(S,axis=1)\n",
    "    \n",
    "    data_con = originaldata[col_continuous]\n",
    "    for i in col_continuous:\n",
    "        data_con[i] = (data_con[i] - np.mean(data_con[i]))/np.std(data_con[i])\n",
    "        data_con[i] = (data_con[i] - np.mean(data_con[i]))/np.std(data_con[i])\n",
    "    \n",
    "    data_new = pd.concat([data_cat, data_con], axis=1)\n",
    "    data_new = pd.concat([data_new, yn], axis = 1)\n",
    "    data_new['readmitted'] = data_new['YES']\n",
    "    data_new = data_new.drop(['YES'],axis=1)\n",
    "    return data_new\n",
    "\n",
    "datanew = choose_variable(colchoose,discrete,continuous,diall)"
   ]
  },
  {
   "cell_type": "code",
   "execution_count": 4,
   "metadata": {},
   "outputs": [
    {
     "data": {
      "text/html": [
       "<div>\n",
       "<style>\n",
       "    .dataframe thead tr:only-child th {\n",
       "        text-align: right;\n",
       "    }\n",
       "\n",
       "    .dataframe thead th {\n",
       "        text-align: left;\n",
       "    }\n",
       "\n",
       "    .dataframe tbody tr th {\n",
       "        vertical-align: top;\n",
       "    }\n",
       "</style>\n",
       "<table border=\"1\" class=\"dataframe\">\n",
       "  <thead>\n",
       "    <tr style=\"text-align: right;\">\n",
       "      <th></th>\n",
       "      <th>race_race_AfricanAmerican</th>\n",
       "      <th>race_race_Caucasian</th>\n",
       "      <th>race_race_Hispanic</th>\n",
       "      <th>race_race_Other</th>\n",
       "      <th>gender_gender_Female</th>\n",
       "      <th>age_age_15</th>\n",
       "      <th>age_age_25</th>\n",
       "      <th>age_age_35</th>\n",
       "      <th>age_age_45</th>\n",
       "      <th>age_age_55</th>\n",
       "      <th>...</th>\n",
       "      <th>diabetes_rest_med_Yes</th>\n",
       "      <th>num_lab_procedures</th>\n",
       "      <th>num_procedures</th>\n",
       "      <th>num_medications</th>\n",
       "      <th>number_outpatient</th>\n",
       "      <th>number_emergency</th>\n",
       "      <th>number_inpatient</th>\n",
       "      <th>time_in_hospital</th>\n",
       "      <th>number_diagnoses</th>\n",
       "      <th>readmitted</th>\n",
       "    </tr>\n",
       "  </thead>\n",
       "  <tbody>\n",
       "    <tr>\n",
       "      <th>0</th>\n",
       "      <td>0</td>\n",
       "      <td>1</td>\n",
       "      <td>0</td>\n",
       "      <td>0</td>\n",
       "      <td>1</td>\n",
       "      <td>0</td>\n",
       "      <td>0</td>\n",
       "      <td>0</td>\n",
       "      <td>0</td>\n",
       "      <td>1</td>\n",
       "      <td>...</td>\n",
       "      <td>0</td>\n",
       "      <td>1.708433</td>\n",
       "      <td>2.590493</td>\n",
       "      <td>2.084767</td>\n",
       "      <td>-0.265273</td>\n",
       "      <td>-0.20561</td>\n",
       "      <td>-0.300261</td>\n",
       "      <td>1.257246</td>\n",
       "      <td>0.356170</td>\n",
       "      <td>1</td>\n",
       "    </tr>\n",
       "    <tr>\n",
       "      <th>1</th>\n",
       "      <td>0</td>\n",
       "      <td>1</td>\n",
       "      <td>0</td>\n",
       "      <td>0</td>\n",
       "      <td>1</td>\n",
       "      <td>0</td>\n",
       "      <td>0</td>\n",
       "      <td>0</td>\n",
       "      <td>0</td>\n",
       "      <td>1</td>\n",
       "      <td>...</td>\n",
       "      <td>0</td>\n",
       "      <td>0.304674</td>\n",
       "      <td>-0.249660</td>\n",
       "      <td>-0.576946</td>\n",
       "      <td>-0.265273</td>\n",
       "      <td>-0.20561</td>\n",
       "      <td>-0.300261</td>\n",
       "      <td>-0.782168</td>\n",
       "      <td>-2.285531</td>\n",
       "      <td>0</td>\n",
       "    </tr>\n",
       "    <tr>\n",
       "      <th>2</th>\n",
       "      <td>0</td>\n",
       "      <td>1</td>\n",
       "      <td>0</td>\n",
       "      <td>0</td>\n",
       "      <td>1</td>\n",
       "      <td>0</td>\n",
       "      <td>0</td>\n",
       "      <td>0</td>\n",
       "      <td>0</td>\n",
       "      <td>0</td>\n",
       "      <td>...</td>\n",
       "      <td>0</td>\n",
       "      <td>1.257225</td>\n",
       "      <td>0.318371</td>\n",
       "      <td>0.874897</td>\n",
       "      <td>-0.265273</td>\n",
       "      <td>-0.20561</td>\n",
       "      <td>-0.300261</td>\n",
       "      <td>-0.102364</td>\n",
       "      <td>0.884510</td>\n",
       "      <td>0</td>\n",
       "    </tr>\n",
       "    <tr>\n",
       "      <th>3</th>\n",
       "      <td>0</td>\n",
       "      <td>1</td>\n",
       "      <td>0</td>\n",
       "      <td>0</td>\n",
       "      <td>1</td>\n",
       "      <td>0</td>\n",
       "      <td>0</td>\n",
       "      <td>0</td>\n",
       "      <td>0</td>\n",
       "      <td>0</td>\n",
       "      <td>...</td>\n",
       "      <td>0</td>\n",
       "      <td>0.154271</td>\n",
       "      <td>-0.817691</td>\n",
       "      <td>0.511936</td>\n",
       "      <td>-0.265273</td>\n",
       "      <td>-0.20561</td>\n",
       "      <td>-0.300261</td>\n",
       "      <td>-0.442266</td>\n",
       "      <td>0.884510</td>\n",
       "      <td>0</td>\n",
       "    </tr>\n",
       "    <tr>\n",
       "      <th>4</th>\n",
       "      <td>1</td>\n",
       "      <td>0</td>\n",
       "      <td>0</td>\n",
       "      <td>0</td>\n",
       "      <td>1</td>\n",
       "      <td>0</td>\n",
       "      <td>0</td>\n",
       "      <td>1</td>\n",
       "      <td>0</td>\n",
       "      <td>0</td>\n",
       "      <td>...</td>\n",
       "      <td>0</td>\n",
       "      <td>0.304674</td>\n",
       "      <td>-0.817691</td>\n",
       "      <td>-1.302868</td>\n",
       "      <td>-0.265273</td>\n",
       "      <td>-0.20561</td>\n",
       "      <td>-0.300261</td>\n",
       "      <td>0.237539</td>\n",
       "      <td>-2.285531</td>\n",
       "      <td>0</td>\n",
       "    </tr>\n",
       "  </tbody>\n",
       "</table>\n",
       "<p>5 rows × 95 columns</p>\n",
       "</div>"
      ],
      "text/plain": [
       "   race_race_AfricanAmerican  race_race_Caucasian  race_race_Hispanic  \\\n",
       "0                          0                    1                   0   \n",
       "1                          0                    1                   0   \n",
       "2                          0                    1                   0   \n",
       "3                          0                    1                   0   \n",
       "4                          1                    0                   0   \n",
       "\n",
       "   race_race_Other  gender_gender_Female  age_age_15  age_age_25  age_age_35  \\\n",
       "0                0                     1           0           0           0   \n",
       "1                0                     1           0           0           0   \n",
       "2                0                     1           0           0           0   \n",
       "3                0                     1           0           0           0   \n",
       "4                0                     1           0           0           1   \n",
       "\n",
       "   age_age_45  age_age_55     ...      diabetes_rest_med_Yes  \\\n",
       "0           0           1     ...                          0   \n",
       "1           0           1     ...                          0   \n",
       "2           0           0     ...                          0   \n",
       "3           0           0     ...                          0   \n",
       "4           0           0     ...                          0   \n",
       "\n",
       "   num_lab_procedures  num_procedures  num_medications  number_outpatient  \\\n",
       "0            1.708433        2.590493         2.084767          -0.265273   \n",
       "1            0.304674       -0.249660        -0.576946          -0.265273   \n",
       "2            1.257225        0.318371         0.874897          -0.265273   \n",
       "3            0.154271       -0.817691         0.511936          -0.265273   \n",
       "4            0.304674       -0.817691        -1.302868          -0.265273   \n",
       "\n",
       "   number_emergency  number_inpatient  time_in_hospital  number_diagnoses  \\\n",
       "0          -0.20561         -0.300261          1.257246          0.356170   \n",
       "1          -0.20561         -0.300261         -0.782168         -2.285531   \n",
       "2          -0.20561         -0.300261         -0.102364          0.884510   \n",
       "3          -0.20561         -0.300261         -0.442266          0.884510   \n",
       "4          -0.20561         -0.300261          0.237539         -2.285531   \n",
       "\n",
       "   readmitted  \n",
       "0           1  \n",
       "1           0  \n",
       "2           0  \n",
       "3           0  \n",
       "4           0  \n",
       "\n",
       "[5 rows x 95 columns]"
      ]
     },
     "execution_count": 4,
     "metadata": {},
     "output_type": "execute_result"
    }
   ],
   "source": [
    "datanew.head()"
   ]
  },
  {
   "cell_type": "code",
   "execution_count": 9,
   "metadata": {},
   "outputs": [],
   "source": [
    "np.save('fromSuci/X.npy', datanew.drop('readmitted', axis=1).values)\n",
    "np.save('fromSuci/y.npy', datanew[['readmitted']].values)"
   ]
  },
  {
   "cell_type": "code",
   "execution_count": 16,
   "metadata": {},
   "outputs": [],
   "source": [
    "X = datanew.drop('readmitted', axis=1).values\n",
    "y = datanew[['readmitted']].values"
   ]
  },
  {
   "cell_type": "code",
   "execution_count": 15,
   "metadata": {
    "collapsed": true
   },
   "outputs": [],
   "source": [
    "kfold = StratifiedKFold(n_splits=5, shuffle=True, random_state=8)"
   ]
  },
  {
   "cell_type": "code",
   "execution_count": 21,
   "metadata": {},
   "outputs": [
    {
     "name": "stdout",
     "output_type": "stream",
     "text": [
      "--\n",
      "[    0     1     2 ..., 67125 67126 67127]\n",
      "[    4     9    13 ..., 67117 67118 67124]\n",
      "--\n",
      "[    0     1     2 ..., 67125 67126 67127]\n",
      "[    4     9    13 ..., 67117 67118 67124]\n",
      "--\n",
      "[    0     1     2 ..., 67125 67126 67127]\n",
      "[    4     9    13 ..., 67117 67118 67124]\n",
      "--\n",
      "[    0     1     2 ..., 67125 67126 67127]\n",
      "[    4     9    13 ..., 67117 67118 67124]\n",
      "--\n",
      "[    0     1     2 ..., 67125 67126 67127]\n",
      "[    4     9    13 ..., 67117 67118 67124]\n"
     ]
    }
   ],
   "source": [
    "for train, test in kfold.split(X, y):\n",
    "    print('--')\n",
    "    print(a)\n",
    "    print(b)"
   ]
  },
  {
   "cell_type": "code",
   "execution_count": 25,
   "metadata": {},
   "outputs": [],
   "source": [
    "Xtrain, Xtest = X[train, :], X[test, :]\n",
    "ytrain, ytest = y[train, :], y[test, :]"
   ]
  },
  {
   "cell_type": "code",
   "execution_count": 27,
   "metadata": {},
   "outputs": [
    {
     "name": "stdout",
     "output_type": "stream",
     "text": [
      "--\n",
      "[    0     1     2 ..., 67125 67126 67127]\n",
      "[    4     9    13 ..., 67117 67118 67124]\n",
      "--\n",
      "[    0     1     2 ..., 67125 67126 67127]\n",
      "[    4     9    13 ..., 67117 67118 67124]\n",
      "--\n",
      "[    0     1     2 ..., 67125 67126 67127]\n",
      "[    4     9    13 ..., 67117 67118 67124]\n",
      "--\n",
      "[    0     1     2 ..., 67125 67126 67127]\n",
      "[    4     9    13 ..., 67117 67118 67124]\n",
      "--\n",
      "[    0     1     2 ..., 67125 67126 67127]\n",
      "[    4     9    13 ..., 67117 67118 67124]\n"
     ]
    }
   ],
   "source": [
    "for train, valid in kfold.split(Xtrain, ytrain):\n",
    "    print('--')\n",
    "    print(a)\n",
    "    print(b)"
   ]
  },
  {
   "cell_type": "code",
   "execution_count": 31,
   "metadata": {
    "collapsed": true
   },
   "outputs": [],
   "source": [
    "Xtrain1, Xvalid = Xtrain[train, :], Xtrain[valid, :]\n",
    "ytrain1, yvalid = ytrain[train, :], ytrain[valid, :]"
   ]
  },
  {
   "cell_type": "code",
   "execution_count": 32,
   "metadata": {},
   "outputs": [
    {
     "data": {
      "text/plain": [
       "((42963, 94), (10740, 94))"
      ]
     },
     "execution_count": 32,
     "metadata": {},
     "output_type": "execute_result"
    }
   ],
   "source": [
    "Xtrain1.shape, Xvalid.shape"
   ]
  },
  {
   "cell_type": "code",
   "execution_count": 33,
   "metadata": {
    "collapsed": true
   },
   "outputs": [],
   "source": [
    "np.save('fromSuci/Xtrain.npy', Xtrain1)\n",
    "np.save('fromSuci/ytrain.npy', ytrain1)\n",
    "np.save('fromSuci/Xtest.npy', Xtest)\n",
    "np.save('fromSuci/ytest.npy', ytest)\n",
    "np.save('fromSuci/Xvalid.npy', Xvalid)\n",
    "np.save('fromSuci/yvalid.npy', yvalid)"
   ]
  },
  {
   "cell_type": "code",
   "execution_count": null,
   "metadata": {
    "collapsed": true
   },
   "outputs": [],
   "source": []
  }
 ],
 "metadata": {
  "kernelspec": {
   "display_name": "Python 3",
   "language": "python",
   "name": "python3"
  },
  "language_info": {
   "codemirror_mode": {
    "name": "ipython",
    "version": 3
   },
   "file_extension": ".py",
   "mimetype": "text/x-python",
   "name": "python",
   "nbconvert_exporter": "python",
   "pygments_lexer": "ipython3",
   "version": "3.6.4"
  }
 },
 "nbformat": 4,
 "nbformat_minor": 2
}
